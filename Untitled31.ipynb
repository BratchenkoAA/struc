{
  "nbformat": 4,
  "nbformat_minor": 0,
  "metadata": {
    "colab": {
      "provenance": [],
      "authorship_tag": "ABX9TyNWT214m54QGpmlyW8AabmL",
      "include_colab_link": true
    },
    "kernelspec": {
      "name": "python3",
      "display_name": "Python 3"
    },
    "language_info": {
      "name": "python"
    }
  },
  "cells": [
    {
      "cell_type": "markdown",
      "metadata": {
        "id": "view-in-github",
        "colab_type": "text"
      },
      "source": [
        "<a href=\"https://colab.research.google.com/github/BratchenkoAA/struc/blob/main/Untitled31.ipynb\" target=\"_parent\"><img src=\"https://colab.research.google.com/assets/colab-badge.svg\" alt=\"Open In Colab\"/></a>"
      ]
    },
    {
      "cell_type": "code",
      "execution_count": 1,
      "metadata": {
        "colab": {
          "base_uri": "https://localhost:8080/"
        },
        "id": "P-BqjApQJr76",
        "outputId": "62928fd0-d950-4a98-809d-4064d233d651"
      },
      "outputs": [
        {
          "output_type": "stream",
          "name": "stdout",
          "text": [
            "Матрица смежности:\n",
            "[0, 1, 1, 0, 0, 0, 0]\n",
            "[1, 0, 0, 1, 0, 0, 0]\n",
            "[1, 0, 0, 0, 0, 0, 0]\n",
            "[0, 1, 0, 0, 0, 0, 0]\n",
            "[0, 0, 0, 0, 0, 1, 0]\n",
            "[0, 0, 0, 0, 1, 0, 1]\n",
            "[0, 0, 0, 0, 0, 1, 0]\n"
          ]
        }
      ],
      "source": [
        "def create_adjacency_matrix(edges, num_vertices):\n",
        "    adjacency_matrix = [[0 for _ in range(num_vertices)] for _ in range(num_vertices)]\n",
        "    for edge in edges:\n",
        "        u, v = edge\n",
        "        adjacency_matrix[u - 1][v - 1] = 1\n",
        "        adjacency_matrix[v - 1][u - 1] = 1\n",
        "    return adjacency_matrix\n",
        "\n",
        "edges = [(1, 2), (1, 3), (2, 4), (5, 6), (6, 7)]\n",
        "num_vertices = 7\n",
        "\n",
        "adjacency_matrix = create_adjacency_matrix(edges, num_vertices)\n",
        "\n",
        "print(\"Матрица смежности:\")\n",
        "for row in adjacency_matrix:\n",
        "    print(row)\n",
        "\n"
      ]
    },
    {
      "cell_type": "code",
      "source": [
        "def create_incidence_matrix(edges, num_vertices):\n",
        "\n",
        " num_edges = len(edges)\n",
        " incidence_matrix = [[0 for _ in range(num_edges)] for _ in range(num_vertices)]\n",
        " for edge_index, edge in enumerate(edges):\n",
        "  u, v = edge\n",
        "  incidence_matrix[u - 1][edge_index] = 1\n",
        "  incidence_matrix[v - 1][edge_index] = 1\n",
        "\n",
        " return incidence_matrix\n",
        "incidence_matrix = create_incidence_matrix(edges, num_vertices)\n",
        "print(\"\\nМатрица инцидентности:\")\n",
        "for row in incidence_matrix:\n",
        " print(row)\n"
      ],
      "metadata": {
        "colab": {
          "base_uri": "https://localhost:8080/"
        },
        "id": "TyNMIZ3DJs_U",
        "outputId": "f83f84ff-f231-4f2d-d757-8ddf7a57fff2"
      },
      "execution_count": 2,
      "outputs": [
        {
          "output_type": "stream",
          "name": "stdout",
          "text": [
            "\n",
            "Матрица инцидентности:\n",
            "[1, 1, 0, 0, 0]\n",
            "[1, 0, 1, 0, 0]\n",
            "[0, 1, 0, 0, 0]\n",
            "[0, 0, 1, 0, 0]\n",
            "[0, 0, 0, 1, 0]\n",
            "[0, 0, 0, 1, 1]\n",
            "[0, 0, 0, 0, 1]\n"
          ]
        }
      ]
    },
    {
      "cell_type": "code",
      "source": [
        "def find_connected_components(adjacency_matrix):\n",
        "    num_vertices = len(adjacency_matrix)\n",
        "    visited = [False] * num_vertices\n",
        "    components = []\n",
        "\n",
        "    def dfs(vertex, current_component):\n",
        "        visited[vertex] = True\n",
        "        current_component.append(vertex + 1)  # нумерация вершин с 1\n",
        "        for neighbor, is_connected in enumerate(adjacency_matrix[vertex]):\n",
        "            if is_connected and not visited[neighbor]:\n",
        "                dfs(neighbor, current_component)\n",
        "\n",
        "    for vertex in range(num_vertices):\n",
        "        if not visited[vertex]:\n",
        "            current_component = []\n",
        "            dfs(vertex, current_component)\n",
        "            components.append(current_component)\n",
        "\n",
        "    return components\n",
        "\n",
        "# Предположим, adjacency_matrix уже определена ранее\n",
        "connected_components = find_connected_components(adjacency_matrix)\n",
        "\n",
        "print(\"\\nКомпоненты связности графа:\")\n",
        "for i, component in enumerate(connected_components, start=1):\n",
        "    print(f\"Компонента {i}: {component}\")"
      ],
      "metadata": {
        "colab": {
          "base_uri": "https://localhost:8080/"
        },
        "id": "rwij1QMVJtV7",
        "outputId": "a551f81c-ee13-44c3-8410-ae532d7f0ce1"
      },
      "execution_count": 3,
      "outputs": [
        {
          "output_type": "stream",
          "name": "stdout",
          "text": [
            "\n",
            "Компоненты связности графа:\n",
            "Компонента 1: [1, 2, 4, 3]\n",
            "Компонента 2: [5, 6, 7]\n"
          ]
        }
      ]
    }
  ]
}